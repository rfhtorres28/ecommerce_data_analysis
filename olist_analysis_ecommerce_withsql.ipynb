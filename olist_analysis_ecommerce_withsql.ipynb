{
 "cells": [
  {
   "cell_type": "markdown",
   "metadata": {},
   "source": [
    "### **Data Collection**"
   ]
  },
  {
   "cell_type": "code",
   "execution_count": 148,
   "metadata": {},
   "outputs": [],
   "source": [
    "import numpy as np\n",
    "import pandas as pd \n",
    "import matplotlib.pyplot as plt \n",
    "import seaborn as sns\n",
    "import warnings\n",
    "warnings.filterwarnings('ignore')"
   ]
  },
  {
   "cell_type": "code",
   "execution_count": 230,
   "metadata": {},
   "outputs": [
    {
     "data": {
      "text/html": [
       "<div>\n",
       "<style scoped>\n",
       "    .dataframe tbody tr th:only-of-type {\n",
       "        vertical-align: middle;\n",
       "    }\n",
       "\n",
       "    .dataframe tbody tr th {\n",
       "        vertical-align: top;\n",
       "    }\n",
       "\n",
       "    .dataframe thead th {\n",
       "        text-align: right;\n",
       "    }\n",
       "</style>\n",
       "<table border=\"1\" class=\"dataframe\">\n",
       "  <thead>\n",
       "    <tr style=\"text-align: right;\">\n",
       "      <th></th>\n",
       "      <th>order_id</th>\n",
       "      <th>product_id</th>\n",
       "      <th>seller_id</th>\n",
       "      <th>customer_id</th>\n",
       "      <th>city</th>\n",
       "      <th>country_sate</th>\n",
       "      <th>lat</th>\n",
       "      <th>long</th>\n",
       "      <th>order_purchase_timestamp</th>\n",
       "      <th>order_delivered_customer_date</th>\n",
       "      <th>product_category_name</th>\n",
       "      <th>product_weight_g</th>\n",
       "      <th>order_status</th>\n",
       "      <th>review_score</th>\n",
       "      <th>total_sales</th>\n",
       "      <th>payment_type</th>\n",
       "      <th>payment_value</th>\n",
       "    </tr>\n",
       "  </thead>\n",
       "  <tbody>\n",
       "    <tr>\n",
       "      <th>0</th>\n",
       "      <td>7eba0b6b5cb480d65416e26e2528d250</td>\n",
       "      <td>5fea1628f3d9680db59c20a4d80c221f</td>\n",
       "      <td>0761743cbffb25d7148189e9f1a5f03a</td>\n",
       "      <td>7b27139522c36a37118d6eb8402f1d85</td>\n",
       "      <td>Taboao da Serra</td>\n",
       "      <td>Sao Paulo</td>\n",
       "      <td>-23.6261</td>\n",
       "      <td>-46.7917</td>\n",
       "      <td>2017-11-30 09:38:21.0000000</td>\n",
       "      <td>2017-12-15 23:09:59.0000000</td>\n",
       "      <td>beleza_saude</td>\n",
       "      <td>400.0</td>\n",
       "      <td>delivered</td>\n",
       "      <td>4.0</td>\n",
       "      <td>47.01</td>\n",
       "      <td>boleto</td>\n",
       "      <td>235.050003</td>\n",
       "    </tr>\n",
       "    <tr>\n",
       "      <th>1</th>\n",
       "      <td>7eba0b6b5cb480d65416e26e2528d250</td>\n",
       "      <td>5fea1628f3d9680db59c20a4d80c221f</td>\n",
       "      <td>0761743cbffb25d7148189e9f1a5f03a</td>\n",
       "      <td>7b27139522c36a37118d6eb8402f1d85</td>\n",
       "      <td>Taboao da Serra</td>\n",
       "      <td>Sao Paulo</td>\n",
       "      <td>-23.6261</td>\n",
       "      <td>-46.7917</td>\n",
       "      <td>2017-11-30 09:38:21.0000000</td>\n",
       "      <td>2017-12-15 23:09:59.0000000</td>\n",
       "      <td>beleza_saude</td>\n",
       "      <td>400.0</td>\n",
       "      <td>delivered</td>\n",
       "      <td>4.0</td>\n",
       "      <td>47.01</td>\n",
       "      <td>boleto</td>\n",
       "      <td>235.050003</td>\n",
       "    </tr>\n",
       "    <tr>\n",
       "      <th>2</th>\n",
       "      <td>7eba0b6b5cb480d65416e26e2528d250</td>\n",
       "      <td>5fea1628f3d9680db59c20a4d80c221f</td>\n",
       "      <td>0761743cbffb25d7148189e9f1a5f03a</td>\n",
       "      <td>7b27139522c36a37118d6eb8402f1d85</td>\n",
       "      <td>Taboao da Serra</td>\n",
       "      <td>Sao Paulo</td>\n",
       "      <td>-23.6261</td>\n",
       "      <td>-46.7917</td>\n",
       "      <td>2017-11-30 09:38:21.0000000</td>\n",
       "      <td>2017-12-15 23:09:59.0000000</td>\n",
       "      <td>beleza_saude</td>\n",
       "      <td>400.0</td>\n",
       "      <td>delivered</td>\n",
       "      <td>4.0</td>\n",
       "      <td>47.01</td>\n",
       "      <td>boleto</td>\n",
       "      <td>235.050003</td>\n",
       "    </tr>\n",
       "    <tr>\n",
       "      <th>3</th>\n",
       "      <td>7eba0b6b5cb480d65416e26e2528d250</td>\n",
       "      <td>5fea1628f3d9680db59c20a4d80c221f</td>\n",
       "      <td>0761743cbffb25d7148189e9f1a5f03a</td>\n",
       "      <td>7b27139522c36a37118d6eb8402f1d85</td>\n",
       "      <td>Taboao da Serra</td>\n",
       "      <td>Sao Paulo</td>\n",
       "      <td>-23.6261</td>\n",
       "      <td>-46.7917</td>\n",
       "      <td>2017-11-30 09:38:21.0000000</td>\n",
       "      <td>2017-12-15 23:09:59.0000000</td>\n",
       "      <td>beleza_saude</td>\n",
       "      <td>400.0</td>\n",
       "      <td>delivered</td>\n",
       "      <td>4.0</td>\n",
       "      <td>47.01</td>\n",
       "      <td>boleto</td>\n",
       "      <td>235.050003</td>\n",
       "    </tr>\n",
       "    <tr>\n",
       "      <th>4</th>\n",
       "      <td>7eba0b6b5cb480d65416e26e2528d250</td>\n",
       "      <td>5fea1628f3d9680db59c20a4d80c221f</td>\n",
       "      <td>0761743cbffb25d7148189e9f1a5f03a</td>\n",
       "      <td>7b27139522c36a37118d6eb8402f1d85</td>\n",
       "      <td>Taboao da Serra</td>\n",
       "      <td>Sao Paulo</td>\n",
       "      <td>-23.6261</td>\n",
       "      <td>-46.7917</td>\n",
       "      <td>2017-11-30 09:38:21.0000000</td>\n",
       "      <td>2017-12-15 23:09:59.0000000</td>\n",
       "      <td>beleza_saude</td>\n",
       "      <td>400.0</td>\n",
       "      <td>delivered</td>\n",
       "      <td>4.0</td>\n",
       "      <td>47.01</td>\n",
       "      <td>boleto</td>\n",
       "      <td>235.050003</td>\n",
       "    </tr>\n",
       "  </tbody>\n",
       "</table>\n",
       "</div>"
      ],
      "text/plain": [
       "                           order_id                        product_id  \\\n",
       "0  7eba0b6b5cb480d65416e26e2528d250  5fea1628f3d9680db59c20a4d80c221f   \n",
       "1  7eba0b6b5cb480d65416e26e2528d250  5fea1628f3d9680db59c20a4d80c221f   \n",
       "2  7eba0b6b5cb480d65416e26e2528d250  5fea1628f3d9680db59c20a4d80c221f   \n",
       "3  7eba0b6b5cb480d65416e26e2528d250  5fea1628f3d9680db59c20a4d80c221f   \n",
       "4  7eba0b6b5cb480d65416e26e2528d250  5fea1628f3d9680db59c20a4d80c221f   \n",
       "\n",
       "                          seller_id                       customer_id  \\\n",
       "0  0761743cbffb25d7148189e9f1a5f03a  7b27139522c36a37118d6eb8402f1d85   \n",
       "1  0761743cbffb25d7148189e9f1a5f03a  7b27139522c36a37118d6eb8402f1d85   \n",
       "2  0761743cbffb25d7148189e9f1a5f03a  7b27139522c36a37118d6eb8402f1d85   \n",
       "3  0761743cbffb25d7148189e9f1a5f03a  7b27139522c36a37118d6eb8402f1d85   \n",
       "4  0761743cbffb25d7148189e9f1a5f03a  7b27139522c36a37118d6eb8402f1d85   \n",
       "\n",
       "              city country_sate      lat     long  \\\n",
       "0  Taboao da Serra    Sao Paulo -23.6261 -46.7917   \n",
       "1  Taboao da Serra    Sao Paulo -23.6261 -46.7917   \n",
       "2  Taboao da Serra    Sao Paulo -23.6261 -46.7917   \n",
       "3  Taboao da Serra    Sao Paulo -23.6261 -46.7917   \n",
       "4  Taboao da Serra    Sao Paulo -23.6261 -46.7917   \n",
       "\n",
       "      order_purchase_timestamp order_delivered_customer_date  \\\n",
       "0  2017-11-30 09:38:21.0000000   2017-12-15 23:09:59.0000000   \n",
       "1  2017-11-30 09:38:21.0000000   2017-12-15 23:09:59.0000000   \n",
       "2  2017-11-30 09:38:21.0000000   2017-12-15 23:09:59.0000000   \n",
       "3  2017-11-30 09:38:21.0000000   2017-12-15 23:09:59.0000000   \n",
       "4  2017-11-30 09:38:21.0000000   2017-12-15 23:09:59.0000000   \n",
       "\n",
       "  product_category_name  product_weight_g order_status  review_score  \\\n",
       "0          beleza_saude             400.0    delivered           4.0   \n",
       "1          beleza_saude             400.0    delivered           4.0   \n",
       "2          beleza_saude             400.0    delivered           4.0   \n",
       "3          beleza_saude             400.0    delivered           4.0   \n",
       "4          beleza_saude             400.0    delivered           4.0   \n",
       "\n",
       "   total_sales payment_type  payment_value  \n",
       "0        47.01       boleto     235.050003  \n",
       "1        47.01       boleto     235.050003  \n",
       "2        47.01       boleto     235.050003  \n",
       "3        47.01       boleto     235.050003  \n",
       "4        47.01       boleto     235.050003  "
      ]
     },
     "execution_count": 230,
     "metadata": {},
     "output_type": "execute_result"
    }
   ],
   "source": [
    "data = pd.read_csv(r\"c:\\Users\\bobby\\Desktop\\Python\\Projects_DataSets\\Project_1\\olist_data.csv\", encoding = 'windows-1252')\n",
    "data.head()"
   ]
  },
  {
   "cell_type": "code",
   "execution_count": 231,
   "metadata": {},
   "outputs": [
    {
     "data": {
      "text/plain": [
       "Index(['order_id', 'product_id', 'seller_id', 'customer_id', 'city',\n",
       "       'country_sate', 'lat', 'long', 'order_purchase_timestamp',\n",
       "       'order_delivered_customer_date', 'product_category_name',\n",
       "       'product_weight_g', 'order_status', 'review_score', 'total_sales',\n",
       "       'payment_type', 'payment_value'],\n",
       "      dtype='object')"
      ]
     },
     "execution_count": 231,
     "metadata": {},
     "output_type": "execute_result"
    }
   ],
   "source": [
    "data.columns"
   ]
  },
  {
   "cell_type": "code",
   "execution_count": 232,
   "metadata": {},
   "outputs": [],
   "source": [
    "data.columns = data.columns.str.replace('_', ' ') # replace _ with space\n",
    "data.columns = data.columns.str.title() # capitalize each word in the column title"
   ]
  },
  {
   "cell_type": "code",
   "execution_count": 233,
   "metadata": {},
   "outputs": [],
   "source": [
    "data['Product Category Name'] = data['Product Category Name'].str.replace('_', ' ')\n",
    "data['Order Status'] = data['Order Status'].str.replace('_', ' ')\n",
    "data['Payment Type'] = data['Payment Type'].str.replace('_', ' ')"
   ]
  },
  {
   "cell_type": "code",
   "execution_count": 234,
   "metadata": {},
   "outputs": [],
   "source": [
    "data['Product Category Name'] = data['Product Category Name'].str.title()\n",
    "data['Order Status'] = data['Order Status'].str.title()\n",
    "data['Payment Type'] = data['Payment Type'].str.title()"
   ]
  },
  {
   "cell_type": "code",
   "execution_count": 235,
   "metadata": {},
   "outputs": [],
   "source": [
    "data.drop('Product Weight G', axis = 1, inplace = True) # Drop unecessary column"
   ]
  },
  {
   "cell_type": "code",
   "execution_count": 236,
   "metadata": {},
   "outputs": [],
   "source": [
    "data.rename(columns={'Country Sate':'Country_State'}, inplace = True)"
   ]
  },
  {
   "cell_type": "code",
   "execution_count": 237,
   "metadata": {},
   "outputs": [],
   "source": [
    "data = data[~data.duplicated()] # Remove duplicate rows"
   ]
  },
  {
   "cell_type": "code",
   "execution_count": 238,
   "metadata": {},
   "outputs": [
    {
     "data": {
      "text/plain": [
       "0"
      ]
     },
     "execution_count": 238,
     "metadata": {},
     "output_type": "execute_result"
    }
   ],
   "source": [
    "data.duplicated().sum() # Check again if there are any duplicate rows"
   ]
  },
  {
   "cell_type": "code",
   "execution_count": 242,
   "metadata": {},
   "outputs": [
    {
     "data": {
      "text/plain": [
       "Order Id                            0\n",
       "Product Id                          0\n",
       "Seller Id                           0\n",
       "Customer Id                         0\n",
       "City                                0\n",
       "Country_State                       0\n",
       "Lat                                 0\n",
       "Long                                0\n",
       "Order Purchase Timestamp            0\n",
       "Order Delivered Customer Date       0\n",
       "Product Category Name            1460\n",
       "Order Status                        0\n",
       "Review Score                      721\n",
       "Total Sales                         0\n",
       "Payment Type                        1\n",
       "Payment Value                       1\n",
       "dtype: int64"
      ]
     },
     "execution_count": 242,
     "metadata": {},
     "output_type": "execute_result"
    }
   ],
   "source": [
    "data.isna().sum() # Check if there are any missing values"
   ]
  },
  {
   "cell_type": "code",
   "execution_count": 248,
   "metadata": {},
   "outputs": [],
   "source": [
    "data = data.dropna(subset = ['Order Delivered Customer Date']) # remove rows with nan values\n",
    "data = data.dropna(subset = ['Product Id']) # remove rows with nan values\n",
    "data = data.dropna(subset = ['Seller Id']) # remove rows with nan values\n",
    "data = data.dropna(subset = ['City']) # remove rows with nan values\n",
    "data = data.dropna(subset = ['Country_State']) # remove rows with nan values\n",
    "data = data.dropna(subset = ['Payment Value']) # remove rows with nan values"
   ]
  },
  {
   "cell_type": "code",
   "execution_count": 249,
   "metadata": {},
   "outputs": [],
   "source": [
    "data['Product Category Name'] = data['Product Category Name'].fillna('Others')"
   ]
  },
  {
   "cell_type": "code",
   "execution_count": 250,
   "metadata": {},
   "outputs": [],
   "source": [
    "data['Review Score'] = data['Review Score'].fillna(data['Review Score'].median())"
   ]
  },
  {
   "cell_type": "code",
   "execution_count": 251,
   "metadata": {},
   "outputs": [
    {
     "data": {
      "text/plain": [
       "Order Id                         0\n",
       "Product Id                       0\n",
       "Seller Id                        0\n",
       "Customer Id                      0\n",
       "City                             0\n",
       "Country_State                    0\n",
       "Lat                              0\n",
       "Long                             0\n",
       "Order Purchase Timestamp         0\n",
       "Order Delivered Customer Date    0\n",
       "Product Category Name            0\n",
       "Order Status                     0\n",
       "Review Score                     0\n",
       "Total Sales                      0\n",
       "Payment Type                     0\n",
       "Payment Value                    0\n",
       "dtype: int64"
      ]
     },
     "execution_count": 251,
     "metadata": {},
     "output_type": "execute_result"
    }
   ],
   "source": [
    "data.isna().sum() # Check again if there any missing values"
   ]
  },
  {
   "cell_type": "code",
   "execution_count": 252,
   "metadata": {},
   "outputs": [
    {
     "name": "stdout",
     "output_type": "stream",
     "text": [
      "<class 'pandas.core.frame.DataFrame'>\n",
      "Index: 104008 entries, 0 to 119142\n",
      "Data columns (total 16 columns):\n",
      " #   Column                         Non-Null Count   Dtype  \n",
      "---  ------                         --------------   -----  \n",
      " 0   Order Id                       104008 non-null  object \n",
      " 1   Product Id                     104008 non-null  object \n",
      " 2   Seller Id                      104008 non-null  object \n",
      " 3   Customer Id                    104008 non-null  object \n",
      " 4   City                           104008 non-null  object \n",
      " 5   Country_State                  104008 non-null  object \n",
      " 6   Lat                            104008 non-null  float64\n",
      " 7   Long                           104008 non-null  float64\n",
      " 8   Order Purchase Timestamp       104008 non-null  object \n",
      " 9   Order Delivered Customer Date  104008 non-null  object \n",
      " 10  Product Category Name          104008 non-null  object \n",
      " 11  Order Status                   104008 non-null  object \n",
      " 12  Review Score                   104008 non-null  float64\n",
      " 13  Total Sales                    104008 non-null  float64\n",
      " 14  Payment Type                   104008 non-null  object \n",
      " 15  Payment Value                  104008 non-null  float64\n",
      "dtypes: float64(5), object(11)\n",
      "memory usage: 13.5+ MB\n"
     ]
    }
   ],
   "source": [
    "data.info()"
   ]
  },
  {
   "cell_type": "markdown",
   "metadata": {},
   "source": [
    "#### **Handling Outliers**"
   ]
  },
  {
   "cell_type": "code",
   "execution_count": 357,
   "metadata": {},
   "outputs": [
    {
     "data": {
      "image/png": "[encoded data removed]",
      "text/plain": [
       "<Figure size 640x480 with 1 Axes>"
      ]
     },
     "metadata": {},
     "output_type": "display_data"
    }
   ],
   "source": [
    "plt.style.use('dark_background')\n",
    "q25, q75 = np.percentile(data['Review_Score'], (25,75))\n",
    "iqr = q75 - q25 \n",
    "min_1 = q25 - 1.5*iqr \n",
    "max_1 = q75 + 1.5*iqr\n",
    "sns.boxplot(x=data['Review_Score']);"
   ]
  },
  {
   "cell_type": "code",
   "execution_count": 254,
   "metadata": {},
   "outputs": [
    {
     "data": {
      "text/plain": [
       "14144"
      ]
     },
     "execution_count": 254,
     "metadata": {},
     "output_type": "execute_result"
    }
   ],
   "source": [
    "data['Review Score'].loc[data['Review Score'] < min_1].count()  # Count of review score outliers\n"
   ]
  },
  {
   "cell_type": "markdown",
   "metadata": {},
   "source": [
    " * The count of review score outliers were almost 14% of the total count which is kinda significant. So for this reason we will retain these values for further analysis."
   ]
  },
  {
   "cell_type": "code",
   "execution_count": 359,
   "metadata": {},
   "outputs": [
    {
     "data": {
      "text/plain": [
       "<Axes: xlabel='Total_Sales'>"
      ]
     },
     "execution_count": 359,
     "metadata": {},
     "output_type": "execute_result"
    },
    {
     "data": {
      "image/png": "[encoded data removed]",
      "text/plain": [
       "<Figure size 640x480 with 1 Axes>"
      ]
     },
     "metadata": {},
     "output_type": "display_data"
    }
   ],
   "source": [
    "q25, q75 = np.percentile(data[\"Total_Sales\"], (25,75))\n",
    "iqr = q75 - q25 \n",
    "min_2 = q25 - 1.5*iqr \n",
    "max_2 = q75 + 1.5*iqr\n",
    "sns.boxplot(x=data[\"Total_Sales\"])"
   ]
  },
  {
   "cell_type": "code",
   "execution_count": 360,
   "metadata": {},
   "outputs": [
    {
     "data": {
      "text/plain": [
       "7667"
      ]
     },
     "execution_count": 360,
     "metadata": {},
     "output_type": "execute_result"
    }
   ],
   "source": [
    "data[\"Total_Sales\"].loc[data[\"Total_Sales\"] > max_2].count()  # Count of Total Sales outliers"
   ]
  },
  {
   "cell_type": "markdown",
   "metadata": {},
   "source": [
    " * The count of total sales outliers were 7.4% of the total count which is also kinda significant. We will also retain these values for further analysis."
   ]
  },
  {
   "cell_type": "code",
   "execution_count": 361,
   "metadata": {},
   "outputs": [
    {
     "data": {
      "text/plain": [
       "<Axes: xlabel='Payment_Value'>"
      ]
     },
     "execution_count": 361,
     "metadata": {},
     "output_type": "execute_result"
    },
    {
     "data": {
      "image/png": "[encoded data removed]",
      "text/plain": [
       "<Figure size 640x480 with 1 Axes>"
      ]
     },
     "metadata": {},
     "output_type": "display_data"
    }
   ],
   "source": [
    "q25, q75 = np.percentile(data[\"Payment_Value\"], (25,75))\n",
    "iqr = q75 - q25 \n",
    "min_3 = q25 - 1.5*iqr \n",
    "max_3 = q75 + 1.5*iqr\n",
    "sns.boxplot(x=data[\"Payment_Value\"])"
   ]
  },
  {
   "cell_type": "code",
   "execution_count": 363,
   "metadata": {},
   "outputs": [
    {
     "data": {
      "text/plain": [
       "7990"
      ]
     },
     "execution_count": 363,
     "metadata": {},
     "output_type": "execute_result"
    }
   ],
   "source": [
    "data['Payment_Value'].loc[data['Payment_Value'] > max_3].count()  # Count of freight value outliers"
   ]
  },
  {
   "cell_type": "markdown",
   "metadata": {},
   "source": [
    " * The count of payment value outliers were 7.7% of the total count which is also significant and can affect further analysis. We will also retain these value"
   ]
  },
  {
   "cell_type": "code",
   "execution_count": 364,
   "metadata": {},
   "outputs": [],
   "source": [
    "data['Order_Purchase_Timestamp'] = pd.to_datetime(data['Order_Purchase_Timestamp'])  # Convert to datetime64 format \n",
    "data['Order_Delivered_Customer_Date'] = pd.to_datetime(data['Order_Delivered_Customer_Date']) \n"
   ]
  },
  {
   "cell_type": "code",
   "execution_count": 173,
   "metadata": {},
   "outputs": [],
   "source": [
    "# Exporting CSV file\n",
    "data.to_csv(\"cleaned_data.csv\") "
   ]
  },
  {
   "cell_type": "code",
   "execution_count": 257,
   "metadata": {},
   "outputs": [],
   "source": [
    "data.columns = data.columns.str.replace(' ', '_')"
   ]
  },
  {
   "cell_type": "code",
   "execution_count": 258,
   "metadata": {},
   "outputs": [
    {
     "name": "stdout",
     "output_type": "stream",
     "text": [
      "<class 'pandas.core.frame.DataFrame'>\n",
      "Index: 104008 entries, 0 to 119142\n",
      "Data columns (total 16 columns):\n",
      " #   Column                         Non-Null Count   Dtype         \n",
      "---  ------                         --------------   -----         \n",
      " 0   Order_Id                       104008 non-null  object        \n",
      " 1   Product_Id                     104008 non-null  object        \n",
      " 2   Seller_Id                      104008 non-null  object        \n",
      " 3   Customer_Id                    104008 non-null  object        \n",
      " 4   City                           104008 non-null  object        \n",
      " 5   Country_State                  104008 non-null  object        \n",
      " 6   Lat                            104008 non-null  float64       \n",
      " 7   Long                           104008 non-null  float64       \n",
      " 8   Order_Purchase_Timestamp       104008 non-null  datetime64[ns]\n",
      " 9   Order_Delivered_Customer_Date  104008 non-null  datetime64[ns]\n",
      " 10  Product_Category_Name          104008 non-null  object        \n",
      " 11  Order_Status                   104008 non-null  object        \n",
      " 12  Review_Score                   104008 non-null  float64       \n",
      " 13  Total_Sales                    104008 non-null  float64       \n",
      " 14  Payment_Type                   104008 non-null  object        \n",
      " 15  Payment_Value                  104008 non-null  float64       \n",
      "dtypes: datetime64[ns](2), float64(5), object(9)\n",
      "memory usage: 13.5+ MB\n"
     ]
    }
   ],
   "source": [
    "data.info()"
   ]
  },
  {
   "cell_type": "markdown",
   "metadata": {},
   "source": [
    "* Connecting to SQL Server (Exporting the cleaned data to SQL server)"
   ]
  },
  {
   "cell_type": "code",
   "execution_count": 28,
   "metadata": {},
   "outputs": [],
   "source": [
    "import pyodbc "
   ]
  },
  {
   "cell_type": "code",
   "execution_count": 29,
   "metadata": {},
   "outputs": [],
   "source": [
    "conn = pyodbc.connect('DRIVER={ODBC Driver 18 for SQL Server};' \n",
    "                      'SERVER=LAPTOP-AK0PT9AH;' \n",
    "                      'DATABASE=olist_web_ecommerce;'\n",
    "                      'UID=root;PWD=Tootsie@2714;'\n",
    "                      'Trusted_connection=yes;'\n",
    "                        'Encrypt=no')\n",
    "cursor = conn.cursor()"
   ]
  },
  {
   "cell_type": "code",
   "execution_count": 31,
   "metadata": {},
   "outputs": [],
   "source": [
    "# Create Table\n",
    "sql = '''CREATE TABLE cleaned_data(Order_Id nvarchar(50), Product_Id nvarchar(50), Seller_Id nvarchar(50), Customer_Id nvarchar(50),\n",
    "             City nvarchar(50),\n",
    "            Country_State nvarchar(50),\n",
    "            Lat float,\n",
    "            Long float,\n",
    "\t\t\tOrder_Purchase_Timestamp datetime2,\n",
    "            Order_Delivered_Customer_Date datetime2,\n",
    "            Product_Category_Name nvarchar(50),\n",
    "            Order_Status nvarchar(50),\n",
    "            Review_Score int,\n",
    "            Payment_Type nvarchar(50),\n",
    "            Payment_Value float\n",
    "            )'''\n",
    "cursor.execute(sql)\n",
    "\n",
    "\n",
    "conn.commit()"
   ]
  },
  {
   "cell_type": "code",
   "execution_count": 32,
   "metadata": {},
   "outputs": [],
   "source": [
    "# Insert DataFrame to Table\n",
    "for row in data.itertuples():\n",
    "    cursor.execute('''\n",
    "                INSERT INTO cleaned_data (Order_Id, Product_Id, Seller_Id, Customer_Id,\n",
    "             City,\n",
    "            Country_State,\n",
    "            Lat,\n",
    "            Long,\n",
    "\t\t\tOrder_Purchase_Timestamp,\n",
    "            Order_Delivered_Customer_Date,\n",
    "            Product_Category_Name,\n",
    "            Order_Status,\n",
    "            Review_Score,\n",
    "            Payment_Type,\n",
    "            Payment_Value)\n",
    "                VALUES (?,?,?,?,?, ?,?,?,?,?,?,?,?,?,?)\n",
    "                ''',\n",
    "            row.Order_Id, \n",
    "            row.Product_Id, \n",
    "            row.Seller_Id, \n",
    "            row.Customer_Id,\n",
    "            row.City,\n",
    "            row.Country_Sate,\n",
    "            row.Lat,\n",
    "            row.Long,\n",
    "\t\t\trow.Order_Purchase_Timestamp,\n",
    "            row.Order_Delivered_Customer_Date,\n",
    "            row.Product_Category_Name,\n",
    "            row.Order_Status,\n",
    "            row.Review_Score,\n",
    "            row.Payment_Type,\n",
    "            row.Payment_Value\n",
    "            )\n",
    "\n",
    "\n",
    "conn.commit()"
   ]
  },
  {
   "cell_type": "markdown",
   "metadata": {},
   "source": [
    "### **Exploratory Data Analysis** \n",
    "                 \n"
   ]
  },
  {
   "cell_type": "code",
   "execution_count": 176,
   "metadata": {},
   "outputs": [
    {
     "data": {
      "text/html": [
       "<div>\n",
       "<style scoped>\n",
       "    .dataframe tbody tr th:only-of-type {\n",
       "        vertical-align: middle;\n",
       "    }\n",
       "\n",
       "    .dataframe tbody tr th {\n",
       "        vertical-align: top;\n",
       "    }\n",
       "\n",
       "    .dataframe thead th {\n",
       "        text-align: right;\n",
       "    }\n",
       "</style>\n",
       "<table border=\"1\" class=\"dataframe\">\n",
       "  <thead>\n",
       "    <tr style=\"text-align: right;\">\n",
       "      <th></th>\n",
       "      <th>Order_Id</th>\n",
       "      <th>Product_Id</th>\n",
       "      <th>Seller_Id</th>\n",
       "      <th>Customer_Id</th>\n",
       "      <th>City</th>\n",
       "      <th>Country_Sate</th>\n",
       "      <th>Lat</th>\n",
       "      <th>Long</th>\n",
       "      <th>Order_Purchase_Timestamp</th>\n",
       "      <th>Order_Delivered_Customer_Date</th>\n",
       "      <th>Product_Category_Name</th>\n",
       "      <th>Order_Status</th>\n",
       "      <th>Review_Score</th>\n",
       "      <th>Total_Sales</th>\n",
       "      <th>Payment_Type</th>\n",
       "      <th>Payment_Value</th>\n",
       "    </tr>\n",
       "  </thead>\n",
       "  <tbody>\n",
       "    <tr>\n",
       "      <th>0</th>\n",
       "      <td>7eba0b6b5cb480d65416e26e2528d250</td>\n",
       "      <td>5fea1628f3d9680db59c20a4d80c221f</td>\n",
       "      <td>0761743cbffb25d7148189e9f1a5f03a</td>\n",
       "      <td>7b27139522c36a37118d6eb8402f1d85</td>\n",
       "      <td>Taboao da Serra</td>\n",
       "      <td>Sao Paulo</td>\n",
       "      <td>-23.6261</td>\n",
       "      <td>-46.7917</td>\n",
       "      <td>2017-11-30 09:38:21</td>\n",
       "      <td>2017-12-15 23:09:59</td>\n",
       "      <td>Beleza Saude</td>\n",
       "      <td>Delivered</td>\n",
       "      <td>4.0</td>\n",
       "      <td>47.010000</td>\n",
       "      <td>Boleto</td>\n",
       "      <td>235.050003</td>\n",
       "    </tr>\n",
       "    <tr>\n",
       "      <th>5</th>\n",
       "      <td>7f0d655ffe806d4ab4ade36bbaa8e71e</td>\n",
       "      <td>5a848e4ab52fd5445cdc07aab1c40e48</td>\n",
       "      <td>c826c40d7b19f62a09e2d7c5e7295ee2</td>\n",
       "      <td>9716c4a296c261a120d27d058e32ab38</td>\n",
       "      <td>Juiz de Fora</td>\n",
       "      <td>Minas Gerais</td>\n",
       "      <td>-21.7642</td>\n",
       "      <td>-43.3503</td>\n",
       "      <td>2018-02-16 09:25:44</td>\n",
       "      <td>2018-03-02 15:09:38</td>\n",
       "      <td>Others</td>\n",
       "      <td>Delivered</td>\n",
       "      <td>5.0</td>\n",
       "      <td>138.599998</td>\n",
       "      <td>Credit Card</td>\n",
       "      <td>138.600006</td>\n",
       "    </tr>\n",
       "    <tr>\n",
       "      <th>6</th>\n",
       "      <td>7f4988e3479541a14ffd638419c902b1</td>\n",
       "      <td>2ae501b303a5a8e6f75c8c36f366b2d5</td>\n",
       "      <td>4e06067cc08b3f41d837768d392c3ee3</td>\n",
       "      <td>f4647aea7ef7c8dfb11e2970c509f8f9</td>\n",
       "      <td>Buritizeiro</td>\n",
       "      <td>Minas Gerais</td>\n",
       "      <td>-17.3511</td>\n",
       "      <td>-44.9622</td>\n",
       "      <td>2017-07-16 15:27:12</td>\n",
       "      <td>2017-07-18 18:47:40</td>\n",
       "      <td>Perfumaria</td>\n",
       "      <td>Delivered</td>\n",
       "      <td>5.0</td>\n",
       "      <td>32.469999</td>\n",
       "      <td>Credit Card</td>\n",
       "      <td>32.470001</td>\n",
       "    </tr>\n",
       "    <tr>\n",
       "      <th>7</th>\n",
       "      <td>7f6945b2c635db3bce1cfb585ba82d33</td>\n",
       "      <td>514171f9d45a3d93574fc587ef775579</td>\n",
       "      <td>d91fb3b7d041e83b64a00a3edfb37e4f</td>\n",
       "      <td>e0b51ab4363c175e59f94dd700050a67</td>\n",
       "      <td>Nilopolis</td>\n",
       "      <td>Rio de Janeiro</td>\n",
       "      <td>-22.9028</td>\n",
       "      <td>-43.4139</td>\n",
       "      <td>2018-07-27 09:52:08</td>\n",
       "      <td>2018-08-02 23:03:29</td>\n",
       "      <td>Portateis Casa Forno E Cafe</td>\n",
       "      <td>Delivered</td>\n",
       "      <td>5.0</td>\n",
       "      <td>53.539999</td>\n",
       "      <td>Credit Card</td>\n",
       "      <td>53.540001</td>\n",
       "    </tr>\n",
       "    <tr>\n",
       "      <th>8</th>\n",
       "      <td>80033798e6e3df555110ccfb54fca308</td>\n",
       "      <td>5a848e4ab52fd5445cdc07aab1c40e48</td>\n",
       "      <td>c826c40d7b19f62a09e2d7c5e7295ee2</td>\n",
       "      <td>be92c9ed86442988b4c15f71a8f351c0</td>\n",
       "      <td>Itaguai</td>\n",
       "      <td>Rio de Janeiro</td>\n",
       "      <td>-22.8522</td>\n",
       "      <td>-43.7753</td>\n",
       "      <td>2017-12-19 14:16:19</td>\n",
       "      <td>2018-01-11 16:56:56</td>\n",
       "      <td>Others</td>\n",
       "      <td>Delivered</td>\n",
       "      <td>5.0</td>\n",
       "      <td>137.599998</td>\n",
       "      <td>Credit Card</td>\n",
       "      <td>137.600006</td>\n",
       "    </tr>\n",
       "  </tbody>\n",
       "</table>\n",
       "</div>"
      ],
      "text/plain": [
       "                           Order_Id                        Product_Id  \\\n",
       "0  7eba0b6b5cb480d65416e26e2528d250  5fea1628f3d9680db59c20a4d80c221f   \n",
       "5  7f0d655ffe806d4ab4ade36bbaa8e71e  5a848e4ab52fd5445cdc07aab1c40e48   \n",
       "6  7f4988e3479541a14ffd638419c902b1  2ae501b303a5a8e6f75c8c36f366b2d5   \n",
       "7  7f6945b2c635db3bce1cfb585ba82d33  514171f9d45a3d93574fc587ef775579   \n",
       "8  80033798e6e3df555110ccfb54fca308  5a848e4ab52fd5445cdc07aab1c40e48   \n",
       "\n",
       "                          Seller_Id                       Customer_Id  \\\n",
       "0  0761743cbffb25d7148189e9f1a5f03a  7b27139522c36a37118d6eb8402f1d85   \n",
       "5  c826c40d7b19f62a09e2d7c5e7295ee2  9716c4a296c261a120d27d058e32ab38   \n",
       "6  4e06067cc08b3f41d837768d392c3ee3  f4647aea7ef7c8dfb11e2970c509f8f9   \n",
       "7  d91fb3b7d041e83b64a00a3edfb37e4f  e0b51ab4363c175e59f94dd700050a67   \n",
       "8  c826c40d7b19f62a09e2d7c5e7295ee2  be92c9ed86442988b4c15f71a8f351c0   \n",
       "\n",
       "              City    Country_Sate      Lat     Long Order_Purchase_Timestamp  \\\n",
       "0  Taboao da Serra       Sao Paulo -23.6261 -46.7917      2017-11-30 09:38:21   \n",
       "5     Juiz de Fora    Minas Gerais -21.7642 -43.3503      2018-02-16 09:25:44   \n",
       "6      Buritizeiro    Minas Gerais -17.3511 -44.9622      2017-07-16 15:27:12   \n",
       "7        Nilopolis  Rio de Janeiro -22.9028 -43.4139      2018-07-27 09:52:08   \n",
       "8          Itaguai  Rio de Janeiro -22.8522 -43.7753      2017-12-19 14:16:19   \n",
       "\n",
       "  Order_Delivered_Customer_Date        Product_Category_Name Order_Status  \\\n",
       "0           2017-12-15 23:09:59                 Beleza Saude    Delivered   \n",
       "5           2018-03-02 15:09:38                       Others    Delivered   \n",
       "6           2017-07-18 18:47:40                   Perfumaria    Delivered   \n",
       "7           2018-08-02 23:03:29  Portateis Casa Forno E Cafe    Delivered   \n",
       "8           2018-01-11 16:56:56                       Others    Delivered   \n",
       "\n",
       "   Review_Score  Total_Sales Payment_Type  Payment_Value  \n",
       "0           4.0    47.010000       Boleto     235.050003  \n",
       "5           5.0   138.599998  Credit Card     138.600006  \n",
       "6           5.0    32.469999  Credit Card      32.470001  \n",
       "7           5.0    53.539999  Credit Card      53.540001  \n",
       "8           5.0   137.599998  Credit Card     137.600006  "
      ]
     },
     "execution_count": 176,
     "metadata": {},
     "output_type": "execute_result"
    }
   ],
   "source": [
    "data.head()"
   ]
  },
  {
   "cell_type": "code",
   "execution_count": 177,
   "metadata": {},
   "outputs": [
    {
     "data": {
      "text/plain": [
       "16366106.999373794"
      ]
     },
     "execution_count": 177,
     "metadata": {},
     "output_type": "execute_result"
    }
   ],
   "source": [
    "total_sales = data['Payment_Value'].sum()\n",
    "total_sales"
   ]
  },
  {
   "cell_type": "code",
   "execution_count": 372,
   "metadata": {},
   "outputs": [
    {
     "data": {
      "image/png": "[encoded data removed]",
      "text/plain": [
       "<Figure size 880x640 with 2 Axes>"
      ]
     },
     "metadata": {},
     "output_type": "display_data"
    }
   ],
   "source": [
    "daily_order = data.loc[data['Order_Status'] == 'Delivered'].groupby(data['Order_Purchase_Timestamp'].dt.dayofweek)[['Order_Id']].count()\n",
    "\n",
    "plt.style.use('dark_background')\n",
    "fig, ax = plt.subplots(figsize=(11,8));\n",
    "ax.plot(daily_order.index, daily_order['Order_Id'], color = '#E8D166', label = 'Orders');\n",
    "ax.plot(daily_order.index, daily_order['Order_Id'], 'o', markersize = 2, color = '#E8D166');\n",
    "ax.set_ylabel(\"Number of Orders\");\n",
    "ax.set_xlabel('Day of Week');\n",
    "ax.grid(None) \n",
    "plt.grid(which = 'both', linestyle='dotted')\n",
    "\n",
    "ax.set_ylim(11000,17000)\n",
    "ax.set_yticks(np.linspace(11000,17000, 6))\n",
    "\n",
    "\n",
    "ax2 = ax.twinx()\n",
    "\n",
    "daily_sales = data.loc[data['Order_Status'] == 'Delivered'].groupby(data['Order_Purchase_Timestamp'].dt.dayofweek)[['Payment_Value']].mean()\n",
    "daily_sales\n",
    "\n",
    "ax2.plot(daily_sales.index, daily_sales['Payment_Value'], c='#0CEEE3', label = 'Sales (In Brazillian Dollar)');\n",
    "ax2.plot(daily_sales.index, daily_sales['Payment_Value'], 'o', markersize = 2, color = '#0CEEE3');\n",
    "ax2.set_ylabel(\"Sales\");\n",
    "ax2.set_title('Daily Sales and Orders', fontsize = 14);\n",
    "fig.legend(bbox_to_anchor = (0.45, 0.21));\n",
    "\n",
    "# disable the grid of axis 2\n",
    "ax2.grid(None) \n",
    "\n",
    "ax2.set_ylim(153,160);\n",
    "ax2.set_yticks(np.linspace(153,160, 6));\n",
    "\n"
   ]
  },
  {
   "cell_type": "code",
   "execution_count": 374,
   "metadata": {},
   "outputs": [
    {
     "data": {
      "image/png": "[encoded data removed]",
      "text/plain": [
       "<Figure size 1120x640 with 2 Axes>"
      ]
     },
     "metadata": {},
     "output_type": "display_data"
    }
   ],
   "source": [
    "monthly_order = data.loc[data['Order_Status'] == 'Delivered'].set_index('Order_Purchase_Timestamp').loc[:, ['Order_Id']].resample('M').count()\n",
    "\n",
    "fig, ax = plt.subplots(figsize=(14,8));\n",
    "ax.plot(monthly_order.index, monthly_order['Order_Id'], color = '#E8D166', label = 'Orders');\n",
    "ax.plot(monthly_order.index, monthly_order['Order_Id'], 'o', markersize = 2, color = '#E8D166');\n",
    "ax.set_ylabel(\"Number of Orders\");\n",
    "ax.set_xlabel('Date');\n",
    "ax.grid(None) \n",
    "plt.grid(which = 'both', linestyle='dotted')\n",
    "ax.set_ylim(0,8000)\n",
    "ax.set_yticks(np.linspace(0,8000, 8))\n",
    "\n",
    "\n",
    "ax2 = ax.twinx()\n",
    "\n",
    "monthly_sales = data.loc[data['Order_Status'] == 'Delivered'].set_index('Order_Purchase_Timestamp').loc[:, ['Payment_Value']].resample('M').mean()\n",
    "\n",
    "\n",
    "ax2.plot(monthly_sales.index, monthly_sales['Payment_Value'], c='#0CEEE3', label = 'Sales (In Brazillian Dollar)');\n",
    "ax2.plot(monthly_sales.index, monthly_sales['Payment_Value'], 'o', markersize = 2, color = '#0CEEE3' );\n",
    "ax2.set_ylabel(\"Sales\");\n",
    "ax2.set_title('Monthly Sales and Orders', fontsize = 14);\n",
    "fig.legend(bbox_to_anchor = (0.9, 0.2));\n",
    "\n",
    "ax2.grid(None) \n",
    "\n",
    "ax2.set_ylim(0,160);\n",
    "ax2.set_yticks(np.linspace(0,180, 8));"
   ]
  },
  {
   "cell_type": "markdown",
   "metadata": {},
   "source": [
    "####\n",
    " * Product Categories with the Most Orders"
   ]
  },
  {
   "cell_type": "code",
   "execution_count": 112,
   "metadata": {},
   "outputs": [
    {
     "data": {
      "text/html": [
       "<div>\n",
       "<style scoped>\n",
       "    .dataframe tbody tr th:only-of-type {\n",
       "        vertical-align: middle;\n",
       "    }\n",
       "\n",
       "    .dataframe tbody tr th {\n",
       "        vertical-align: top;\n",
       "    }\n",
       "\n",
       "    .dataframe thead th {\n",
       "        text-align: right;\n",
       "    }\n",
       "</style>\n",
       "<table border=\"1\" class=\"dataframe\">\n",
       "  <thead>\n",
       "    <tr style=\"text-align: right;\">\n",
       "      <th></th>\n",
       "      <th>Product_Category_Name</th>\n",
       "      <th>Order_Id</th>\n",
       "    </tr>\n",
       "  </thead>\n",
       "  <tbody>\n",
       "    <tr>\n",
       "      <th>0</th>\n",
       "      <td>Cama Mesa Banho</td>\n",
       "      <td>10614</td>\n",
       "    </tr>\n",
       "    <tr>\n",
       "      <th>1</th>\n",
       "      <td>Beleza Saude</td>\n",
       "      <td>9038</td>\n",
       "    </tr>\n",
       "    <tr>\n",
       "      <th>2</th>\n",
       "      <td>Esporte Lazer</td>\n",
       "      <td>7900</td>\n",
       "    </tr>\n",
       "    <tr>\n",
       "      <th>3</th>\n",
       "      <td>Moveis Decoracao</td>\n",
       "      <td>6963</td>\n",
       "    </tr>\n",
       "    <tr>\n",
       "      <th>4</th>\n",
       "      <td>Informatica Acessorios</td>\n",
       "      <td>6944</td>\n",
       "    </tr>\n",
       "  </tbody>\n",
       "</table>\n",
       "</div>"
      ],
      "text/plain": [
       "    Product_Category_Name  Order_Id\n",
       "0         Cama Mesa Banho     10614\n",
       "1            Beleza Saude      9038\n",
       "2           Esporte Lazer      7900\n",
       "3        Moveis Decoracao      6963\n",
       "4  Informatica Acessorios      6944"
      ]
     },
     "execution_count": 112,
     "metadata": {},
     "output_type": "execute_result"
    }
   ],
   "source": [
    "high_category = data.groupby('Product_Category_Name')[['Order_Id']].count().sort_values('Order_Id', ascending=False).reset_index() # Getting the product category with the most sales\n",
    "high_category.head()"
   ]
  },
  {
   "cell_type": "markdown",
   "metadata": {},
   "source": [
    "####\n",
    " * Product Categories with the Least Orders"
   ]
  },
  {
   "cell_type": "code",
   "execution_count": 115,
   "metadata": {},
   "outputs": [
    {
     "data": {
      "text/html": [
       "<div>\n",
       "<style scoped>\n",
       "    .dataframe tbody tr th:only-of-type {\n",
       "        vertical-align: middle;\n",
       "    }\n",
       "\n",
       "    .dataframe tbody tr th {\n",
       "        vertical-align: top;\n",
       "    }\n",
       "\n",
       "    .dataframe thead th {\n",
       "        text-align: right;\n",
       "    }\n",
       "</style>\n",
       "<table border=\"1\" class=\"dataframe\">\n",
       "  <thead>\n",
       "    <tr style=\"text-align: right;\">\n",
       "      <th></th>\n",
       "      <th>Product_Category_Name</th>\n",
       "      <th>Order_Id</th>\n",
       "    </tr>\n",
       "  </thead>\n",
       "  <tbody>\n",
       "    <tr>\n",
       "      <th>0</th>\n",
       "      <td>Seguros E Servicos</td>\n",
       "      <td>2</td>\n",
       "    </tr>\n",
       "    <tr>\n",
       "      <th>1</th>\n",
       "      <td>Fashion Roupa Infanto Juvenil</td>\n",
       "      <td>7</td>\n",
       "    </tr>\n",
       "    <tr>\n",
       "      <th>2</th>\n",
       "      <td>Pc Gamer</td>\n",
       "      <td>8</td>\n",
       "    </tr>\n",
       "    <tr>\n",
       "      <th>3</th>\n",
       "      <td>Cds Dvds Musicais</td>\n",
       "      <td>12</td>\n",
       "    </tr>\n",
       "    <tr>\n",
       "      <th>4</th>\n",
       "      <td>Portateis Cozinha E Preparadores De Alimentos</td>\n",
       "      <td>13</td>\n",
       "    </tr>\n",
       "  </tbody>\n",
       "</table>\n",
       "</div>"
      ],
      "text/plain": [
       "                           Product_Category_Name  Order_Id\n",
       "0                             Seguros E Servicos         2\n",
       "1                  Fashion Roupa Infanto Juvenil         7\n",
       "2                                       Pc Gamer         8\n",
       "3                              Cds Dvds Musicais        12\n",
       "4  Portateis Cozinha E Preparadores De Alimentos        13"
      ]
     },
     "execution_count": 115,
     "metadata": {},
     "output_type": "execute_result"
    }
   ],
   "source": [
    "low_category = data.groupby('Product_Category_Name')[['Order_Id']].count().sort_values('Order_Id', ascending=True).reset_index()\n",
    "low_category.head()"
   ]
  },
  {
   "cell_type": "markdown",
   "metadata": {},
   "source": [
    "####\n",
    " * Average Time of Delivery CategoryWise"
   ]
  },
  {
   "cell_type": "code",
   "execution_count": 116,
   "metadata": {},
   "outputs": [
    {
     "data": {
      "text/html": [
       "<div>\n",
       "<style scoped>\n",
       "    .dataframe tbody tr th:only-of-type {\n",
       "        vertical-align: middle;\n",
       "    }\n",
       "\n",
       "    .dataframe tbody tr th {\n",
       "        vertical-align: top;\n",
       "    }\n",
       "\n",
       "    .dataframe thead th {\n",
       "        text-align: right;\n",
       "    }\n",
       "</style>\n",
       "<table border=\"1\" class=\"dataframe\">\n",
       "  <thead>\n",
       "    <tr style=\"text-align: right;\">\n",
       "      <th></th>\n",
       "      <th>Order_Purchase_Timestamp</th>\n",
       "      <th>Order_Delivered_Customer_Date</th>\n",
       "      <th>Order_Id</th>\n",
       "      <th>Product_Category_Name</th>\n",
       "      <th>Review_Score</th>\n",
       "      <th>Delivery_Difference</th>\n",
       "    </tr>\n",
       "  </thead>\n",
       "  <tbody>\n",
       "    <tr>\n",
       "      <th>0</th>\n",
       "      <td>2017-11-30 09:38:21</td>\n",
       "      <td>2017-12-15 23:09:59</td>\n",
       "      <td>7eba0b6b5cb480d65416e26e2528d250</td>\n",
       "      <td>Beleza Saude</td>\n",
       "      <td>4.0</td>\n",
       "      <td>15</td>\n",
       "    </tr>\n",
       "    <tr>\n",
       "      <th>5</th>\n",
       "      <td>2018-02-16 09:25:44</td>\n",
       "      <td>2018-03-02 15:09:38</td>\n",
       "      <td>7f0d655ffe806d4ab4ade36bbaa8e71e</td>\n",
       "      <td>Others</td>\n",
       "      <td>5.0</td>\n",
       "      <td>14</td>\n",
       "    </tr>\n",
       "    <tr>\n",
       "      <th>6</th>\n",
       "      <td>2017-07-16 15:27:12</td>\n",
       "      <td>2017-07-18 18:47:40</td>\n",
       "      <td>7f4988e3479541a14ffd638419c902b1</td>\n",
       "      <td>Perfumaria</td>\n",
       "      <td>5.0</td>\n",
       "      <td>2</td>\n",
       "    </tr>\n",
       "    <tr>\n",
       "      <th>7</th>\n",
       "      <td>2018-07-27 09:52:08</td>\n",
       "      <td>2018-08-02 23:03:29</td>\n",
       "      <td>7f6945b2c635db3bce1cfb585ba82d33</td>\n",
       "      <td>Portateis Casa Forno E Cafe</td>\n",
       "      <td>5.0</td>\n",
       "      <td>6</td>\n",
       "    </tr>\n",
       "    <tr>\n",
       "      <th>8</th>\n",
       "      <td>2017-12-19 14:16:19</td>\n",
       "      <td>2018-01-11 16:56:56</td>\n",
       "      <td>80033798e6e3df555110ccfb54fca308</td>\n",
       "      <td>Others</td>\n",
       "      <td>5.0</td>\n",
       "      <td>23</td>\n",
       "    </tr>\n",
       "  </tbody>\n",
       "</table>\n",
       "</div>"
      ],
      "text/plain": [
       "  Order_Purchase_Timestamp Order_Delivered_Customer_Date  \\\n",
       "0      2017-11-30 09:38:21           2017-12-15 23:09:59   \n",
       "5      2018-02-16 09:25:44           2018-03-02 15:09:38   \n",
       "6      2017-07-16 15:27:12           2017-07-18 18:47:40   \n",
       "7      2018-07-27 09:52:08           2018-08-02 23:03:29   \n",
       "8      2017-12-19 14:16:19           2018-01-11 16:56:56   \n",
       "\n",
       "                           Order_Id        Product_Category_Name  \\\n",
       "0  7eba0b6b5cb480d65416e26e2528d250                 Beleza Saude   \n",
       "5  7f0d655ffe806d4ab4ade36bbaa8e71e                       Others   \n",
       "6  7f4988e3479541a14ffd638419c902b1                   Perfumaria   \n",
       "7  7f6945b2c635db3bce1cfb585ba82d33  Portateis Casa Forno E Cafe   \n",
       "8  80033798e6e3df555110ccfb54fca308                       Others   \n",
       "\n",
       "   Review_Score  Delivery_Difference  \n",
       "0           4.0                   15  \n",
       "5           5.0                   14  \n",
       "6           5.0                    2  \n",
       "7           5.0                    6  \n",
       "8           5.0                   23  "
      ]
     },
     "execution_count": 116,
     "metadata": {},
     "output_type": "execute_result"
    }
   ],
   "source": [
    "delivery_analysis = data.loc[:, ('Order_Purchase_Timestamp', 'Order_Delivered_Customer_Date', 'Order_Id', 'Product_Category_Name', 'Review_Score')]\n",
    "delivery_analysis['Delivery_Difference'] = delivery_analysis['Order_Delivered_Customer_Date'] - delivery_analysis['Order_Purchase_Timestamp']\n",
    "delivery_analysis['Delivery_Difference'] = delivery_analysis['Delivery_Difference'].dt.days.astype('int')  # Extract Days from time_delta\n",
    "delivery_analysis.head()"
   ]
  },
  {
   "cell_type": "code",
   "execution_count": 118,
   "metadata": {},
   "outputs": [
    {
     "data": {
      "text/html": [
       "<div>\n",
       "<style scoped>\n",
       "    .dataframe tbody tr th:only-of-type {\n",
       "        vertical-align: middle;\n",
       "    }\n",
       "\n",
       "    .dataframe tbody tr th {\n",
       "        vertical-align: top;\n",
       "    }\n",
       "\n",
       "    .dataframe thead th {\n",
       "        text-align: right;\n",
       "    }\n",
       "</style>\n",
       "<table border=\"1\" class=\"dataframe\">\n",
       "  <thead>\n",
       "    <tr style=\"text-align: right;\">\n",
       "      <th></th>\n",
       "      <th>Delivery_Difference</th>\n",
       "    </tr>\n",
       "    <tr>\n",
       "      <th>Product_Category_Name</th>\n",
       "      <th></th>\n",
       "    </tr>\n",
       "  </thead>\n",
       "  <tbody>\n",
       "    <tr>\n",
       "      <th>Moveis Escritorio</th>\n",
       "      <td>20.301349</td>\n",
       "    </tr>\n",
       "    <tr>\n",
       "      <th>Artigos De Natal</th>\n",
       "      <td>15.046512</td>\n",
       "    </tr>\n",
       "    <tr>\n",
       "      <th>Seguros E Servicos</th>\n",
       "      <td>15.000000</td>\n",
       "    </tr>\n",
       "    <tr>\n",
       "      <th>Fashion Calcados</th>\n",
       "      <td>14.909774</td>\n",
       "    </tr>\n",
       "    <tr>\n",
       "      <th>Moveis Colchao E Estofado</th>\n",
       "      <td>13.700000</td>\n",
       "    </tr>\n",
       "  </tbody>\n",
       "</table>\n",
       "</div>"
      ],
      "text/plain": [
       "                           Delivery_Difference\n",
       "Product_Category_Name                         \n",
       "Moveis Escritorio                    20.301349\n",
       "Artigos De Natal                     15.046512\n",
       "Seguros E Servicos                   15.000000\n",
       "Fashion Calcados                     14.909774\n",
       "Moveis Colchao E Estofado            13.700000"
      ]
     },
     "execution_count": 118,
     "metadata": {},
     "output_type": "execute_result"
    }
   ],
   "source": [
    "product_category_delivery = delivery_analysis.groupby('Product_Category_Name')[['Delivery_Difference']].mean().sort_values(by='Delivery_Difference', ascending = False)\n",
    "product_category_delivery = product_category_delivery.head()\n",
    "product_category_delivery"
   ]
  },
  {
   "cell_type": "code",
   "execution_count": 375,
   "metadata": {},
   "outputs": [
    {
     "data": {
      "image/png": "[encoded data removed]",
      "text/plain": [
       "<Figure size 800x560 with 1 Axes>"
      ]
     },
     "metadata": {},
     "output_type": "display_data"
    }
   ],
   "source": [
    "fig, ax = plt.subplots(figsize=(10,7));\n",
    "\n",
    "norm = plt.Normalize(product_category_delivery[\"Delivery_Difference\"].values.min(), product_category_delivery[\"Delivery_Difference\"].values.max());\n",
    "gradient = sns.color_palette(\"Greens\", 9)\n",
    "\n",
    "\n",
    "sns.barplot(data=product_category_delivery, y=product_category_delivery.index, x=product_category_delivery['Delivery_Difference'], palette = gradient);\n",
    "ax.set_title('Average Delivery Time', fontsize=13);\n",
    "ax.set_xlabel('Delivery Time (In Days)', fontsize=10);\n",
    "ax.set_ylabel('Product Category Name');"
   ]
  },
  {
   "cell_type": "markdown",
   "metadata": {},
   "source": [
    "####\n",
    " * Customer Life Time Value Analysis"
   ]
  },
  {
   "cell_type": "code",
   "execution_count": 178,
   "metadata": {},
   "outputs": [
    {
     "data": {
      "text/html": [
       "<div>\n",
       "<style scoped>\n",
       "    .dataframe tbody tr th:only-of-type {\n",
       "        vertical-align: middle;\n",
       "    }\n",
       "\n",
       "    .dataframe tbody tr th {\n",
       "        vertical-align: top;\n",
       "    }\n",
       "\n",
       "    .dataframe thead th {\n",
       "        text-align: right;\n",
       "    }\n",
       "</style>\n",
       "<table border=\"1\" class=\"dataframe\">\n",
       "  <thead>\n",
       "    <tr style=\"text-align: right;\">\n",
       "      <th></th>\n",
       "      <th>Product_Category_Name</th>\n",
       "      <th>Order_Id</th>\n",
       "      <th>Payment_Value</th>\n",
       "      <th>Customer_LifeTime_Value</th>\n",
       "    </tr>\n",
       "  </thead>\n",
       "  <tbody>\n",
       "    <tr>\n",
       "      <th>11</th>\n",
       "      <td>Beleza Saude</td>\n",
       "      <td>9038</td>\n",
       "      <td>161.675067</td>\n",
       "      <td>2.922439e+06</td>\n",
       "    </tr>\n",
       "    <tr>\n",
       "      <th>13</th>\n",
       "      <td>Cama Mesa Banho</td>\n",
       "      <td>10614</td>\n",
       "      <td>135.671587</td>\n",
       "      <td>2.880036e+06</td>\n",
       "    </tr>\n",
       "    <tr>\n",
       "      <th>67</th>\n",
       "      <td>Relogios Presentes</td>\n",
       "      <td>5829</td>\n",
       "      <td>223.587066</td>\n",
       "      <td>2.606578e+06</td>\n",
       "    </tr>\n",
       "    <tr>\n",
       "      <th>32</th>\n",
       "      <td>Esporte Lazer</td>\n",
       "      <td>7900</td>\n",
       "      <td>147.212958</td>\n",
       "      <td>2.325965e+06</td>\n",
       "    </tr>\n",
       "    <tr>\n",
       "      <th>44</th>\n",
       "      <td>Informatica Acessorios</td>\n",
       "      <td>6944</td>\n",
       "      <td>160.746879</td>\n",
       "      <td>2.232453e+06</td>\n",
       "    </tr>\n",
       "  </tbody>\n",
       "</table>\n",
       "</div>"
      ],
      "text/plain": [
       "     Product_Category_Name  Order_Id  Payment_Value  Customer_LifeTime_Value\n",
       "11            Beleza Saude      9038     161.675067             2.922439e+06\n",
       "13         Cama Mesa Banho     10614     135.671587             2.880036e+06\n",
       "67      Relogios Presentes      5829     223.587066             2.606578e+06\n",
       "32           Esporte Lazer      7900     147.212958             2.325965e+06\n",
       "44  Informatica Acessorios      6944     160.746879             2.232453e+06"
      ]
     },
     "execution_count": 178,
     "metadata": {},
     "output_type": "execute_result"
    }
   ],
   "source": [
    "clv = data.groupby('Product_Category_Name').agg({'Order_Id':'count', 'Payment_Value':'mean'}).reset_index()\n",
    "clv['Customer_LifeTime_Value'] = clv['Payment_Value'] * clv['Order_Id'] * 2  #Assigning a column for Average Order Value\n",
    "clv = clv.sort_values(by='Customer_LifeTime_Value', ascending=False)\n",
    "clv = clv.head()\n",
    "clv"
   ]
  },
  {
   "cell_type": "code",
   "execution_count": 409,
   "metadata": {},
   "outputs": [
    {
     "data": {
      "image/png": "[encoded data removed]",
      "text/plain": [
       "<Figure size 800x560 with 1 Axes>"
      ]
     },
     "metadata": {},
     "output_type": "display_data"
    }
   ],
   "source": [
    "fig, ax = plt.subplots(figsize=(10,7));\n",
    "\n",
    "norm = plt.Normalize(clv[\"Customer_LifeTime_Value\"].values.min(), clv[\"Customer_LifeTime_Value\"].values.max());\n",
    "gradient = sns.color_palette(\"Greens\", 9);\n",
    "\n",
    "sns.barplot(data=clv, y=clv['Product_Category_Name'], x=clv[\"Customer_LifeTime_Value\"], palette=gradient);\n",
    "ax.set_title('Highest Customer LifeTime Value CategoryWise', fontsize=13);\n",
    "ax.set_xlabel('Customer LifeTime Value (In Brazillian Dollars)', fontsize=10);\n",
    "ax.set_ylabel('Product Category Name');"
   ]
  },
  {
   "cell_type": "markdown",
   "metadata": {},
   "source": [
    " * Preferred Payment Methods of the Customers"
   ]
  },
  {
   "cell_type": "code",
   "execution_count": 336,
   "metadata": {},
   "outputs": [
    {
     "data": {
      "text/html": [
       "<div>\n",
       "<style scoped>\n",
       "    .dataframe tbody tr th:only-of-type {\n",
       "        vertical-align: middle;\n",
       "    }\n",
       "\n",
       "    .dataframe tbody tr th {\n",
       "        vertical-align: top;\n",
       "    }\n",
       "\n",
       "    .dataframe thead th {\n",
       "        text-align: right;\n",
       "    }\n",
       "</style>\n",
       "<table border=\"1\" class=\"dataframe\">\n",
       "  <thead>\n",
       "    <tr style=\"text-align: right;\">\n",
       "      <th></th>\n",
       "      <th>Order_Id</th>\n",
       "    </tr>\n",
       "    <tr>\n",
       "      <th>Payment_Type</th>\n",
       "      <th></th>\n",
       "    </tr>\n",
       "  </thead>\n",
       "  <tbody>\n",
       "    <tr>\n",
       "      <th>Credit Card</th>\n",
       "      <td>77477.0</td>\n",
       "    </tr>\n",
       "    <tr>\n",
       "      <th>Boleto</th>\n",
       "      <td>19850.0</td>\n",
       "    </tr>\n",
       "    <tr>\n",
       "      <th>Voucher</th>\n",
       "      <td>5134.0</td>\n",
       "    </tr>\n",
       "    <tr>\n",
       "      <th>Debit Card</th>\n",
       "      <td>1547.0</td>\n",
       "    </tr>\n",
       "  </tbody>\n",
       "</table>\n",
       "</div>"
      ],
      "text/plain": [
       "              Order_Id\n",
       "Payment_Type          \n",
       "Credit Card    77477.0\n",
       "Boleto         19850.0\n",
       "Voucher         5134.0\n",
       "Debit Card      1547.0"
      ]
     },
     "execution_count": 336,
     "metadata": {},
     "output_type": "execute_result"
    }
   ],
   "source": [
    "type_of_payment = data.groupby('Payment_Type')[['Order_Id']].count().sort_values(by='Order_Id', ascending=False).astype({'Order_Id':'float'})\n",
    "type_of_payment"
   ]
  },
  {
   "cell_type": "code",
   "execution_count": 410,
   "metadata": {},
   "outputs": [
    {
     "data": {
      "image/png": "[encoded data removed]",
      "text/plain": [
       "<Figure size 800x560 with 1 Axes>"
      ]
     },
     "metadata": {},
     "output_type": "display_data"
    }
   ],
   "source": [
    "fig, ax = plt.subplots(figsize=(10,7));\n",
    "\n",
    "gradient = sns.color_palette(\"Greens\", 9);\n",
    "\n",
    "sns.barplot(data=type_of_payment, x=type_of_payment[\"Order_Id\"], y=type_of_payment.index, palette=gradient);\n",
    "ax.set_title('Payment Methods Used By Customers', fontsize=14);\n",
    "ax.set_ylabel('Payment Type', fontsize=12);\n",
    "ax.set_xlabel('Number of Orders', fontsize=12);"
   ]
  },
  {
   "cell_type": "markdown",
   "metadata": {},
   "source": [
    "* Most Number of Sales by Location"
   ]
  },
  {
   "cell_type": "code",
   "execution_count": 260,
   "metadata": {},
   "outputs": [
    {
     "data": {
      "text/html": [
       "<div>\n",
       "<style scoped>\n",
       "    .dataframe tbody tr th:only-of-type {\n",
       "        vertical-align: middle;\n",
       "    }\n",
       "\n",
       "    .dataframe tbody tr th {\n",
       "        vertical-align: top;\n",
       "    }\n",
       "\n",
       "    .dataframe thead th {\n",
       "        text-align: right;\n",
       "    }\n",
       "</style>\n",
       "<table border=\"1\" class=\"dataframe\">\n",
       "  <thead>\n",
       "    <tr style=\"text-align: right;\">\n",
       "      <th></th>\n",
       "      <th>Order_Id</th>\n",
       "      <th>Product_Id</th>\n",
       "      <th>Seller_Id</th>\n",
       "      <th>Customer_Id</th>\n",
       "      <th>City</th>\n",
       "      <th>Country_State</th>\n",
       "      <th>Lat</th>\n",
       "      <th>Long</th>\n",
       "      <th>Order_Purchase_Timestamp</th>\n",
       "      <th>Order_Delivered_Customer_Date</th>\n",
       "      <th>Product_Category_Name</th>\n",
       "      <th>Order_Status</th>\n",
       "      <th>Review_Score</th>\n",
       "      <th>Total_Sales</th>\n",
       "      <th>Payment_Type</th>\n",
       "      <th>Payment_Value</th>\n",
       "    </tr>\n",
       "  </thead>\n",
       "  <tbody>\n",
       "    <tr>\n",
       "      <th>0</th>\n",
       "      <td>7eba0b6b5cb480d65416e26e2528d250</td>\n",
       "      <td>5fea1628f3d9680db59c20a4d80c221f</td>\n",
       "      <td>0761743cbffb25d7148189e9f1a5f03a</td>\n",
       "      <td>7b27139522c36a37118d6eb8402f1d85</td>\n",
       "      <td>Taboao da Serra</td>\n",
       "      <td>Sao Paulo</td>\n",
       "      <td>-23.6261</td>\n",
       "      <td>-46.7917</td>\n",
       "      <td>2017-11-30 09:38:21</td>\n",
       "      <td>2017-12-15 23:09:59</td>\n",
       "      <td>Beleza Saude</td>\n",
       "      <td>Delivered</td>\n",
       "      <td>4.0</td>\n",
       "      <td>47.010000</td>\n",
       "      <td>Boleto</td>\n",
       "      <td>235.050003</td>\n",
       "    </tr>\n",
       "    <tr>\n",
       "      <th>5</th>\n",
       "      <td>7f0d655ffe806d4ab4ade36bbaa8e71e</td>\n",
       "      <td>5a848e4ab52fd5445cdc07aab1c40e48</td>\n",
       "      <td>c826c40d7b19f62a09e2d7c5e7295ee2</td>\n",
       "      <td>9716c4a296c261a120d27d058e32ab38</td>\n",
       "      <td>Juiz de Fora</td>\n",
       "      <td>Minas Gerais</td>\n",
       "      <td>-21.7642</td>\n",
       "      <td>-43.3503</td>\n",
       "      <td>2018-02-16 09:25:44</td>\n",
       "      <td>2018-03-02 15:09:38</td>\n",
       "      <td>Others</td>\n",
       "      <td>Delivered</td>\n",
       "      <td>5.0</td>\n",
       "      <td>138.599998</td>\n",
       "      <td>Credit Card</td>\n",
       "      <td>138.600006</td>\n",
       "    </tr>\n",
       "    <tr>\n",
       "      <th>6</th>\n",
       "      <td>7f4988e3479541a14ffd638419c902b1</td>\n",
       "      <td>2ae501b303a5a8e6f75c8c36f366b2d5</td>\n",
       "      <td>4e06067cc08b3f41d837768d392c3ee3</td>\n",
       "      <td>f4647aea7ef7c8dfb11e2970c509f8f9</td>\n",
       "      <td>Buritizeiro</td>\n",
       "      <td>Minas Gerais</td>\n",
       "      <td>-17.3511</td>\n",
       "      <td>-44.9622</td>\n",
       "      <td>2017-07-16 15:27:12</td>\n",
       "      <td>2017-07-18 18:47:40</td>\n",
       "      <td>Perfumaria</td>\n",
       "      <td>Delivered</td>\n",
       "      <td>5.0</td>\n",
       "      <td>32.469999</td>\n",
       "      <td>Credit Card</td>\n",
       "      <td>32.470001</td>\n",
       "    </tr>\n",
       "    <tr>\n",
       "      <th>7</th>\n",
       "      <td>7f6945b2c635db3bce1cfb585ba82d33</td>\n",
       "      <td>514171f9d45a3d93574fc587ef775579</td>\n",
       "      <td>d91fb3b7d041e83b64a00a3edfb37e4f</td>\n",
       "      <td>e0b51ab4363c175e59f94dd700050a67</td>\n",
       "      <td>Nilopolis</td>\n",
       "      <td>Rio de Janeiro</td>\n",
       "      <td>-22.9028</td>\n",
       "      <td>-43.4139</td>\n",
       "      <td>2018-07-27 09:52:08</td>\n",
       "      <td>2018-08-02 23:03:29</td>\n",
       "      <td>Portateis Casa Forno E Cafe</td>\n",
       "      <td>Delivered</td>\n",
       "      <td>5.0</td>\n",
       "      <td>53.539999</td>\n",
       "      <td>Credit Card</td>\n",
       "      <td>53.540001</td>\n",
       "    </tr>\n",
       "    <tr>\n",
       "      <th>8</th>\n",
       "      <td>80033798e6e3df555110ccfb54fca308</td>\n",
       "      <td>5a848e4ab52fd5445cdc07aab1c40e48</td>\n",
       "      <td>c826c40d7b19f62a09e2d7c5e7295ee2</td>\n",
       "      <td>be92c9ed86442988b4c15f71a8f351c0</td>\n",
       "      <td>Itaguai</td>\n",
       "      <td>Rio de Janeiro</td>\n",
       "      <td>-22.8522</td>\n",
       "      <td>-43.7753</td>\n",
       "      <td>2017-12-19 14:16:19</td>\n",
       "      <td>2018-01-11 16:56:56</td>\n",
       "      <td>Others</td>\n",
       "      <td>Delivered</td>\n",
       "      <td>5.0</td>\n",
       "      <td>137.599998</td>\n",
       "      <td>Credit Card</td>\n",
       "      <td>137.600006</td>\n",
       "    </tr>\n",
       "  </tbody>\n",
       "</table>\n",
       "</div>"
      ],
      "text/plain": [
       "                           Order_Id                        Product_Id  \\\n",
       "0  7eba0b6b5cb480d65416e26e2528d250  5fea1628f3d9680db59c20a4d80c221f   \n",
       "5  7f0d655ffe806d4ab4ade36bbaa8e71e  5a848e4ab52fd5445cdc07aab1c40e48   \n",
       "6  7f4988e3479541a14ffd638419c902b1  2ae501b303a5a8e6f75c8c36f366b2d5   \n",
       "7  7f6945b2c635db3bce1cfb585ba82d33  514171f9d45a3d93574fc587ef775579   \n",
       "8  80033798e6e3df555110ccfb54fca308  5a848e4ab52fd5445cdc07aab1c40e48   \n",
       "\n",
       "                          Seller_Id                       Customer_Id  \\\n",
       "0  0761743cbffb25d7148189e9f1a5f03a  7b27139522c36a37118d6eb8402f1d85   \n",
       "5  c826c40d7b19f62a09e2d7c5e7295ee2  9716c4a296c261a120d27d058e32ab38   \n",
       "6  4e06067cc08b3f41d837768d392c3ee3  f4647aea7ef7c8dfb11e2970c509f8f9   \n",
       "7  d91fb3b7d041e83b64a00a3edfb37e4f  e0b51ab4363c175e59f94dd700050a67   \n",
       "8  c826c40d7b19f62a09e2d7c5e7295ee2  be92c9ed86442988b4c15f71a8f351c0   \n",
       "\n",
       "              City   Country_State      Lat     Long Order_Purchase_Timestamp  \\\n",
       "0  Taboao da Serra       Sao Paulo -23.6261 -46.7917      2017-11-30 09:38:21   \n",
       "5     Juiz de Fora    Minas Gerais -21.7642 -43.3503      2018-02-16 09:25:44   \n",
       "6      Buritizeiro    Minas Gerais -17.3511 -44.9622      2017-07-16 15:27:12   \n",
       "7        Nilopolis  Rio de Janeiro -22.9028 -43.4139      2018-07-27 09:52:08   \n",
       "8          Itaguai  Rio de Janeiro -22.8522 -43.7753      2017-12-19 14:16:19   \n",
       "\n",
       "  Order_Delivered_Customer_Date        Product_Category_Name Order_Status  \\\n",
       "0           2017-12-15 23:09:59                 Beleza Saude    Delivered   \n",
       "5           2018-03-02 15:09:38                       Others    Delivered   \n",
       "6           2017-07-18 18:47:40                   Perfumaria    Delivered   \n",
       "7           2018-08-02 23:03:29  Portateis Casa Forno E Cafe    Delivered   \n",
       "8           2018-01-11 16:56:56                       Others    Delivered   \n",
       "\n",
       "   Review_Score  Total_Sales Payment_Type  Payment_Value  \n",
       "0           4.0    47.010000       Boleto     235.050003  \n",
       "5           5.0   138.599998  Credit Card     138.600006  \n",
       "6           5.0    32.469999  Credit Card      32.470001  \n",
       "7           5.0    53.539999  Credit Card      53.540001  \n",
       "8           5.0   137.599998  Credit Card     137.600006  "
      ]
     },
     "execution_count": 260,
     "metadata": {},
     "output_type": "execute_result"
    }
   ],
   "source": [
    "data.head()"
   ]
  },
  {
   "cell_type": "code",
   "execution_count": 261,
   "metadata": {},
   "outputs": [
    {
     "data": {
      "text/html": [
       "<div>\n",
       "<style scoped>\n",
       "    .dataframe tbody tr th:only-of-type {\n",
       "        vertical-align: middle;\n",
       "    }\n",
       "\n",
       "    .dataframe tbody tr th {\n",
       "        vertical-align: top;\n",
       "    }\n",
       "\n",
       "    .dataframe thead th {\n",
       "        text-align: right;\n",
       "    }\n",
       "</style>\n",
       "<table border=\"1\" class=\"dataframe\">\n",
       "  <thead>\n",
       "    <tr style=\"text-align: right;\">\n",
       "      <th></th>\n",
       "      <th>Order_Id</th>\n",
       "    </tr>\n",
       "    <tr>\n",
       "      <th>Country_State</th>\n",
       "      <th></th>\n",
       "    </tr>\n",
       "  </thead>\n",
       "  <tbody>\n",
       "    <tr>\n",
       "      <th>Sao Paulo</th>\n",
       "      <td>43636</td>\n",
       "    </tr>\n",
       "    <tr>\n",
       "      <th>Rio de Janeiro</th>\n",
       "      <td>13490</td>\n",
       "    </tr>\n",
       "    <tr>\n",
       "      <th>Minas Gerais</th>\n",
       "      <td>12204</td>\n",
       "    </tr>\n",
       "    <tr>\n",
       "      <th>Rio Grande do Sul</th>\n",
       "      <td>5751</td>\n",
       "    </tr>\n",
       "    <tr>\n",
       "      <th>Parana</th>\n",
       "      <td>5250</td>\n",
       "    </tr>\n",
       "  </tbody>\n",
       "</table>\n",
       "</div>"
      ],
      "text/plain": [
       "                   Order_Id\n",
       "Country_State              \n",
       "Sao Paulo             43636\n",
       "Rio de Janeiro        13490\n",
       "Minas Gerais          12204\n",
       "Rio Grande do Sul      5751\n",
       "Parana                 5250"
      ]
     },
     "execution_count": 261,
     "metadata": {},
     "output_type": "execute_result"
    }
   ],
   "source": [
    "number_of_orders_per_city = data.groupby('Country_State')[['Order_Id']].count().sort_values(by='Order_Id', ascending=False).head()\n",
    "number_of_orders_per_city"
   ]
  },
  {
   "cell_type": "code",
   "execution_count": 411,
   "metadata": {},
   "outputs": [
    {
     "data": {
      "image/png": "[encoded data removed]",
      "text/plain": [
       "<Figure size 800x560 with 1 Axes>"
      ]
     },
     "metadata": {},
     "output_type": "display_data"
    }
   ],
   "source": [
    "fig, ax = plt.subplots(figsize=(10,7));\n",
    "\n",
    "gradient = sns.color_palette(\"Greens\", 9);\n",
    "\n",
    "sns.barplot(data=number_of_orders_per_city, x=number_of_orders_per_city[\"Order_Id\"], y=number_of_orders_per_city.index, palette=gradient);\n",
    "ax.set_title('Most Number of Sales by Location', fontsize=14);\n",
    "ax.set_ylabel('Customer City', fontsize=12);\n",
    "ax.set_xlabel('Number of Orders', fontsize=12);"
   ]
  },
  {
   "cell_type": "markdown",
   "metadata": {},
   "source": [
    "* Customer Satisfaction Based On Review Scores"
   ]
  },
  {
   "cell_type": "code",
   "execution_count": 412,
   "metadata": {},
   "outputs": [],
   "source": [
    "review_scores = delivery_analysis.groupby('Product_Category_Name').agg({'Review_Score':'mean','Delivery_Difference':'mean'}).sort_values(by='Review_Score', ascending=True)\n",
    "review_scores['Review_Score'] = review_scores['Review_Score'].round(decimals=2) #round to two decimal places \n",
    "review_scores['Delivery_Difference'] = review_scores['Delivery_Difference'].round(decimals=2) #round to two decimal places"
   ]
  },
  {
   "cell_type": "code",
   "execution_count": 413,
   "metadata": {},
   "outputs": [
    {
     "data": {
      "text/html": [
       "<div>\n",
       "<style scoped>\n",
       "    .dataframe tbody tr th:only-of-type {\n",
       "        vertical-align: middle;\n",
       "    }\n",
       "\n",
       "    .dataframe tbody tr th {\n",
       "        vertical-align: top;\n",
       "    }\n",
       "\n",
       "    .dataframe thead th {\n",
       "        text-align: right;\n",
       "    }\n",
       "</style>\n",
       "<table border=\"1\" class=\"dataframe\">\n",
       "  <thead>\n",
       "    <tr style=\"text-align: right;\">\n",
       "      <th></th>\n",
       "      <th>Review_Score</th>\n",
       "      <th>Delivery_Difference</th>\n",
       "    </tr>\n",
       "    <tr>\n",
       "      <th>Product_Category_Name</th>\n",
       "      <th></th>\n",
       "      <th></th>\n",
       "    </tr>\n",
       "  </thead>\n",
       "  <tbody>\n",
       "    <tr>\n",
       "      <th>Fashion Roupa Infanto Juvenil</th>\n",
       "      <td>5.00</td>\n",
       "      <td>8.14</td>\n",
       "    </tr>\n",
       "    <tr>\n",
       "      <th>Cds Dvds Musicais</th>\n",
       "      <td>4.67</td>\n",
       "      <td>10.50</td>\n",
       "    </tr>\n",
       "    <tr>\n",
       "      <th>Livros Importados</th>\n",
       "      <td>4.52</td>\n",
       "      <td>7.97</td>\n",
       "    </tr>\n",
       "    <tr>\n",
       "      <th>Livros Interesse Geral</th>\n",
       "      <td>4.51</td>\n",
       "      <td>11.30</td>\n",
       "    </tr>\n",
       "    <tr>\n",
       "      <th>Alimentos Bebidas</th>\n",
       "      <td>4.47</td>\n",
       "      <td>10.31</td>\n",
       "    </tr>\n",
       "  </tbody>\n",
       "</table>\n",
       "</div>"
      ],
      "text/plain": [
       "                               Review_Score  Delivery_Difference\n",
       "Product_Category_Name                                           \n",
       "Fashion Roupa Infanto Juvenil          5.00                 8.14\n",
       "Cds Dvds Musicais                      4.67                10.50\n",
       "Livros Importados                      4.52                 7.97\n",
       "Livros Interesse Geral                 4.51                11.30\n",
       "Alimentos Bebidas                      4.47                10.31"
      ]
     },
     "execution_count": 413,
     "metadata": {},
     "output_type": "execute_result"
    }
   ],
   "source": [
    "review_scores.sort_values(by='Review_Score', ascending = False).head()"
   ]
  },
  {
   "cell_type": "code",
   "execution_count": 414,
   "metadata": {},
   "outputs": [
    {
     "data": {
      "text/html": [
       "<div>\n",
       "<style scoped>\n",
       "    .dataframe tbody tr th:only-of-type {\n",
       "        vertical-align: middle;\n",
       "    }\n",
       "\n",
       "    .dataframe tbody tr th {\n",
       "        vertical-align: top;\n",
       "    }\n",
       "\n",
       "    .dataframe thead th {\n",
       "        text-align: right;\n",
       "    }\n",
       "</style>\n",
       "<table border=\"1\" class=\"dataframe\">\n",
       "  <thead>\n",
       "    <tr style=\"text-align: right;\">\n",
       "      <th></th>\n",
       "      <th>Review_Score</th>\n",
       "      <th>Delivery_Difference</th>\n",
       "    </tr>\n",
       "  </thead>\n",
       "  <tbody>\n",
       "    <tr>\n",
       "      <th>Review_Score</th>\n",
       "      <td>1.00000</td>\n",
       "      <td>-0.37963</td>\n",
       "    </tr>\n",
       "    <tr>\n",
       "      <th>Delivery_Difference</th>\n",
       "      <td>-0.37963</td>\n",
       "      <td>1.00000</td>\n",
       "    </tr>\n",
       "  </tbody>\n",
       "</table>\n",
       "</div>"
      ],
      "text/plain": [
       "                     Review_Score  Delivery_Difference\n",
       "Review_Score              1.00000             -0.37963\n",
       "Delivery_Difference      -0.37963              1.00000"
      ]
     },
     "execution_count": 414,
     "metadata": {},
     "output_type": "execute_result"
    }
   ],
   "source": [
    "review_scores.corr()  # No strong correlation between the two variables"
   ]
  },
  {
   "cell_type": "code",
   "execution_count": 415,
   "metadata": {},
   "outputs": [
    {
     "data": {
      "text/html": [
       "<div>\n",
       "<style scoped>\n",
       "    .dataframe tbody tr th:only-of-type {\n",
       "        vertical-align: middle;\n",
       "    }\n",
       "\n",
       "    .dataframe tbody tr th {\n",
       "        vertical-align: top;\n",
       "    }\n",
       "\n",
       "    .dataframe thead th {\n",
       "        text-align: right;\n",
       "    }\n",
       "</style>\n",
       "<table border=\"1\" class=\"dataframe\">\n",
       "  <thead>\n",
       "    <tr style=\"text-align: right;\">\n",
       "      <th></th>\n",
       "      <th>Review_Score</th>\n",
       "      <th>Delivery_Difference</th>\n",
       "    </tr>\n",
       "    <tr>\n",
       "      <th>Product_Category_Name</th>\n",
       "      <th></th>\n",
       "      <th></th>\n",
       "    </tr>\n",
       "  </thead>\n",
       "  <tbody>\n",
       "    <tr>\n",
       "      <th>Fashion Roupa Infanto Juvenil</th>\n",
       "      <td>5.00</td>\n",
       "      <td>8.14</td>\n",
       "    </tr>\n",
       "    <tr>\n",
       "      <th>Cds Dvds Musicais</th>\n",
       "      <td>4.67</td>\n",
       "      <td>10.50</td>\n",
       "    </tr>\n",
       "    <tr>\n",
       "      <th>Livros Importados</th>\n",
       "      <td>4.52</td>\n",
       "      <td>7.97</td>\n",
       "    </tr>\n",
       "    <tr>\n",
       "      <th>Livros Interesse Geral</th>\n",
       "      <td>4.51</td>\n",
       "      <td>11.30</td>\n",
       "    </tr>\n",
       "    <tr>\n",
       "      <th>Alimentos Bebidas</th>\n",
       "      <td>4.47</td>\n",
       "      <td>10.31</td>\n",
       "    </tr>\n",
       "  </tbody>\n",
       "</table>\n",
       "</div>"
      ],
      "text/plain": [
       "                               Review_Score  Delivery_Difference\n",
       "Product_Category_Name                                           \n",
       "Fashion Roupa Infanto Juvenil          5.00                 8.14\n",
       "Cds Dvds Musicais                      4.67                10.50\n",
       "Livros Importados                      4.52                 7.97\n",
       "Livros Interesse Geral                 4.51                11.30\n",
       "Alimentos Bebidas                      4.47                10.31"
      ]
     },
     "execution_count": 415,
     "metadata": {},
     "output_type": "execute_result"
    }
   ],
   "source": [
    "high_review_scores = review_scores.sort_values(by='Review_Score', ascending = False).head(5)\n",
    "high_review_scores  # Product Categories with High Customer Review Scores"
   ]
  },
  {
   "cell_type": "code",
   "execution_count": 416,
   "metadata": {},
   "outputs": [
    {
     "data": {
      "image/png": "[encoded data removed]",
      "text/plain": [
       "<Figure size 800x560 with 1 Axes>"
      ]
     },
     "metadata": {},
     "output_type": "display_data"
    }
   ],
   "source": [
    "fig, ax = plt.subplots(figsize=(10,7));\n",
    "\n",
    "gradient = sns.color_palette(\"Greens\", 9);\n",
    "\n",
    "sns.barplot(data=high_review_scores, x=high_review_scores[\"Review_Score\"], y=high_review_scores.index, palette=gradient);\n",
    "ax.set_title('Customer Review Scores by Product Category', fontsize=14);\n",
    "ax.set_ylabel('Product Category', fontsize=12);\n",
    "ax.set_xlabel('Review Score', fontsize=12);"
   ]
  },
  {
   "cell_type": "code",
   "execution_count": 417,
   "metadata": {},
   "outputs": [],
   "source": [
    " # Product Categories with Low Customer Review Scores\n",
    "low_review_scores = review_scores.sort_values(by='Review_Score', ascending = True).head()"
   ]
  },
  {
   "cell_type": "code",
   "execution_count": 418,
   "metadata": {},
   "outputs": [
    {
     "data": {
      "image/png": "[encoded data removed]",
      "text/plain": [
       "<Figure size 800x560 with 1 Axes>"
      ]
     },
     "metadata": {},
     "output_type": "display_data"
    }
   ],
   "source": [
    "fig, ax = plt.subplots(figsize=(10,7));\n",
    "\n",
    "gradient = sns.color_palette(\"Greens\", 9);\n",
    "\n",
    "sns.barplot(data=low_review_scores, x=low_review_scores[\"Review_Score\"], y=low_review_scores.index, palette=gradient);\n",
    "ax.set_title('Customer Review Scores by Product Category', fontsize=14);\n",
    "ax.set_ylabel('Customer City', fontsize=12);\n",
    "ax.set_xlabel('Review Score', fontsize=12);"
   ]
  },
  {
   "cell_type": "code",
   "execution_count": 426,
   "metadata": {},
   "outputs": [
    {
     "data": {
      "text/plain": [
       "16366107.0"
      ]
     },
     "execution_count": 426,
     "metadata": {},
     "output_type": "execute_result"
    }
   ],
   "source": [
    "# Total Sales Revenue\n",
    "total_sales = data['Payment_Value'].sum().round(0)\n",
    "total_sales"
   ]
  },
  {
   "cell_type": "code",
   "execution_count": 427,
   "metadata": {},
   "outputs": [
    {
     "data": {
      "text/plain": [
       "104008"
      ]
     },
     "execution_count": 427,
     "metadata": {},
     "output_type": "execute_result"
    }
   ],
   "source": [
    "# Total Orders\n",
    "total_orders = data['Order_Id'].count()\n",
    "total_orders"
   ]
  },
  {
   "cell_type": "code",
   "execution_count": 431,
   "metadata": {},
   "outputs": [
    {
     "data": {
      "text/plain": [
       "0.78"
      ]
     },
     "execution_count": 431,
     "metadata": {},
     "output_type": "execute_result"
    }
   ],
   "source": [
    "# Customer Satisfaction Rate\n",
    "rate = data['Order_Id'].loc[data['Review_Score'].isin([4,5])].count() / data['Order_Id'].count()\n",
    "rate.round(2)"
   ]
  }
 ],
 "metadata": {
  "kernelspec": {
   "display_name": "Python 3",
   "language": "python",
   "name": "python3"
  },
  "language_info": {
   "codemirror_mode": {
    "name": "ipython",
    "version": 3
   },
   "file_extension": ".py",
   "mimetype": "text/x-python",
   "name": "python",
   "nbconvert_exporter": "python",
   "pygments_lexer": "ipython3",
   "version": "3.11.7"
  }
 },
 "nbformat": 4,
 "nbformat_minor": 2
}
